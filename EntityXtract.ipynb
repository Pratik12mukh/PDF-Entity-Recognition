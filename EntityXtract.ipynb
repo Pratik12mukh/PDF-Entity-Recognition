{
 "cells": [
  {
   "cell_type": "code",
   "execution_count": 1,
   "id": "e8e62e53",
   "metadata": {},
   "outputs": [],
   "source": [
    "import os\n",
    "import PyPDF2\n",
    "import spacy\n",
    "from spacy import displacy\n",
    "from tkinter import Tk, filedialog\n",
    "\n",
    "# Load the larger pre-trained model\n",
    "nlp = spacy.load(\"en_core_web_lg\")\n",
    "\n"
   ]
  },
  {
   "cell_type": "code",
   "execution_count": 2,
   "id": "a1373ba3",
   "metadata": {},
   "outputs": [],
   "source": [
    "# Function to extract text from a PDF file\n",
    "def extract_text_from_pdf(file_path):\n",
    "    with open(file_path, \"rb\") as file:\n",
    "        reader = PyPDF2.PdfReader(file)\n",
    "        text = \"\"\n",
    "        for page in reader.pages:\n",
    "            text += page.extract_text()\n",
    "    return text\n"
   ]
  },
  {
   "cell_type": "code",
   "execution_count": 3,
   "id": "cb2990d6",
   "metadata": {},
   "outputs": [],
   "source": [
    "\n",
    "# Function for named entity recognition\n",
    "def recognize_entities(text):\n",
    "    doc = nlp(text)\n",
    "    entities = []\n",
    "    for ent in doc.ents:\n",
    "        entities.append((ent.text, ent.label_))\n",
    "    return entities\n"
   ]
  },
  {
   "cell_type": "code",
   "execution_count": 4,
   "id": "4a792a2d",
   "metadata": {},
   "outputs": [],
   "source": [
    "\n",
    "# Function to display named entities and save to a file\n",
    "def display_entities(text, output_file):\n",
    "    doc = nlp(text)\n",
    "    html = displacy.render(doc, style='ent', jupyter=False)\n",
    "    with open(output_file, 'w', encoding='utf-8') as file:\n",
    "        file.write(html)\n"
   ]
  },
  {
   "cell_type": "code",
   "execution_count": 5,
   "id": "291c92c0",
   "metadata": {},
   "outputs": [],
   "source": [
    "\n",
    "# Function to save entities as JSON\n",
    "def save_entities_as_json(entities, output_file):\n",
    "    with open(output_file, 'w') as file:\n",
    "        json.dump(entities, file)\n"
   ]
  },
  {
   "cell_type": "code",
   "execution_count": 6,
   "id": "a50c865d",
   "metadata": {},
   "outputs": [],
   "source": [
    "\n",
    "# Function to save entities as CSV\n",
    "def save_entities_as_csv(entities, output_file):\n",
    "    with open(output_file, 'w', newline='') as file:\n",
    "        writer = csv.writer(file)\n",
    "        writer.writerow(['Entity', 'Label'])\n",
    "        writer.writerows(entities)\n"
   ]
  },
  {
   "cell_type": "code",
   "execution_count": null,
   "id": "8e8f632b",
   "metadata": {},
   "outputs": [],
   "source": [
    "\n",
    "# Create Tkinter root window\n",
    "root = Tk()\n",
    "root.withdraw()\n",
    "\n",
    "# Show a file dialog to select the input PDF file or directory\n",
    "file_path = filedialog.askopenfilename(filetypes=[(\"PDF Files\", \"*.pdf\")])\n",
    "\n",
    "if file_path:\n",
    "    # Provide the output format\n",
    "    output_format = \"html\"\n",
    "\n",
    "    if os.path.isfile(file_path):\n",
    "        # Single file processing\n",
    "        try:\n",
    "            # Extract text from the PDF\n",
    "            pdf_text = extract_text_from_pdf(file_path)\n",
    "\n",
    "            # Perform named entity recognition on the extracted text\n",
    "            entities = recognize_entities(pdf_text)\n",
    "            print(entities)\n",
    "\n",
    "            # Output the recognized entities based on the specified format\n",
    "            output_file = 'entities_output'\n",
    "            if output_format == 'html':\n",
    "                display_entities(pdf_text, output_file + '.html')\n",
    "                print(f\"Named entities saved to {output_file}.html\")\n",
    "            elif output_format == 'json':\n",
    "                save_entities_as_json(entities, output_file + '.json')\n",
    "                print(f\"Named entities saved to {output_file}.json\")\n",
    "            elif output_format == 'csv':\n",
    "                save_entities_as_csv(entities, output_file + '.csv')\n",
    "                print(f\"Named entities saved to {output_file}.csv\")\n",
    "        except Exception as e:\n",
    "            print(f\"An error occurred while processing the file: {file_path}\")\n",
    "    else:\n",
    "        # Batch processing for a directory\n",
    "        if os.path.isdir(file_path):\n",
    "            try:\n",
    "                for file_name in os.listdir(file_path):\n",
    "                    file = os.path.join(file_path, file_name)\n",
    "                    if file_name.endswith(\".pdf\") and os.path.isfile(file):\n",
    "                        try:\n",
    "                            # Extract text from the PDF\n",
    "                            pdf_text = extract_text_from_pdf(file)\n",
    "\n",
    "                            # Perform named entity recognition on the extracted text\n",
    "                            entities = recognize_entities(pdf_text)\n",
    "\n",
    "                            # Output the recognized entities based on the specified format\n",
    "                            output_file = os.path.splitext(file_name)[0] + '_entities_output'\n",
    "                            if output_format == 'html':\n",
    "                                display_entities(pdf_text, output_file + '.html')\n",
    "                                print(f\"Named entities for {file_name} saved to {output_file}.html\")\n",
    "                            elif output_format == 'json':\n",
    "                                save_entities_as_json(entities, output_file + '.json')\n",
    "                                print(f\"Named entities for {file_name} saved to {output_file}.json\")\n",
    "                            elif output_format == 'csv':\n",
    "                                save_entities_as_csv(entities, output_file + '.csv')\n",
    "                                print(f\"Named entities for {file_name} saved to {output_file}.csv\")\n",
    "                        except Exception as e:\n",
    "                            print(f\"An error occurred while processing the file: {file_name}\")\n",
    "                    else:\n",
    "                        print(f\"Skipping {file_name} as it is not a valid PDF file.\")\n",
    "            except Exception as e:\n",
    "                print(f\"An error occurred while processing the directory: {file_path}\")\n",
    "        else:\n",
    "            print(\"Invalid input. Please select a valid PDF file or directory.\")\n",
    "else:\n",
    "    print(\"No file or directory selected.\")\n",
    "\n",
    "# Close the Tkinter root window\n",
    "root.destroy()\n"
   ]
  },
  {
   "cell_type": "code",
   "execution_count": null,
   "id": "d9155443",
   "metadata": {},
   "outputs": [],
   "source": []
  }
 ],
 "metadata": {
  "kernelspec": {
   "display_name": "Python 3 (ipykernel)",
   "language": "python",
   "name": "python3"
  },
  "language_info": {
   "codemirror_mode": {
    "name": "ipython",
    "version": 3
   },
   "file_extension": ".py",
   "mimetype": "text/x-python",
   "name": "python",
   "nbconvert_exporter": "python",
   "pygments_lexer": "ipython3",
   "version": "3.10.9"
  }
 },
 "nbformat": 4,
 "nbformat_minor": 5
}
